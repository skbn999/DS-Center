{
 "cells": [
  {
   "cell_type": "code",
   "execution_count": 1,
   "id": "cba91a49",
   "metadata": {},
   "outputs": [],
   "source": [
    "import pandas as pd\n",
    "import scipy.stats as stat"
   ]
  },
  {
   "cell_type": "code",
   "execution_count": 2,
   "id": "a2ef62f4",
   "metadata": {},
   "outputs": [],
   "source": [
    "data=pd.read_csv('Sales_data_zone_wise.csv')"
   ]
  },
  {
   "cell_type": "code",
   "execution_count": 3,
   "id": "433c9c9e",
   "metadata": {},
   "outputs": [
    {
     "data": {
      "text/html": [
       "<div>\n",
       "<style scoped>\n",
       "    .dataframe tbody tr th:only-of-type {\n",
       "        vertical-align: middle;\n",
       "    }\n",
       "\n",
       "    .dataframe tbody tr th {\n",
       "        vertical-align: top;\n",
       "    }\n",
       "\n",
       "    .dataframe thead th {\n",
       "        text-align: right;\n",
       "    }\n",
       "</style>\n",
       "<table border=\"1\" class=\"dataframe\">\n",
       "  <thead>\n",
       "    <tr style=\"text-align: right;\">\n",
       "      <th></th>\n",
       "      <th>Month</th>\n",
       "      <th>Zone - A</th>\n",
       "      <th>Zone - B</th>\n",
       "      <th>Zone - C</th>\n",
       "      <th>Zone - D</th>\n",
       "    </tr>\n",
       "  </thead>\n",
       "  <tbody>\n",
       "    <tr>\n",
       "      <th>0</th>\n",
       "      <td>Month - 1</td>\n",
       "      <td>1483525</td>\n",
       "      <td>1748451</td>\n",
       "      <td>1523308</td>\n",
       "      <td>2267260</td>\n",
       "    </tr>\n",
       "    <tr>\n",
       "      <th>1</th>\n",
       "      <td>Month - 2</td>\n",
       "      <td>1238428</td>\n",
       "      <td>1707421</td>\n",
       "      <td>2212113</td>\n",
       "      <td>1994341</td>\n",
       "    </tr>\n",
       "    <tr>\n",
       "      <th>2</th>\n",
       "      <td>Month - 3</td>\n",
       "      <td>1860771</td>\n",
       "      <td>2091194</td>\n",
       "      <td>1282374</td>\n",
       "      <td>1241600</td>\n",
       "    </tr>\n",
       "    <tr>\n",
       "      <th>3</th>\n",
       "      <td>Month - 4</td>\n",
       "      <td>1871571</td>\n",
       "      <td>1759617</td>\n",
       "      <td>2290580</td>\n",
       "      <td>2252681</td>\n",
       "    </tr>\n",
       "    <tr>\n",
       "      <th>4</th>\n",
       "      <td>Month - 5</td>\n",
       "      <td>1244922</td>\n",
       "      <td>1606010</td>\n",
       "      <td>1818334</td>\n",
       "      <td>1326062</td>\n",
       "    </tr>\n",
       "  </tbody>\n",
       "</table>\n",
       "</div>"
      ],
      "text/plain": [
       "       Month  Zone - A  Zone - B  Zone - C  Zone - D\n",
       "0  Month - 1   1483525   1748451   1523308   2267260\n",
       "1  Month - 2   1238428   1707421   2212113   1994341\n",
       "2  Month - 3   1860771   2091194   1282374   1241600\n",
       "3  Month - 4   1871571   1759617   2290580   2252681\n",
       "4  Month - 5   1244922   1606010   1818334   1326062"
      ]
     },
     "execution_count": 3,
     "metadata": {},
     "output_type": "execute_result"
    }
   ],
   "source": [
    "data.head()"
   ]
  },
  {
   "cell_type": "code",
   "execution_count": 4,
   "id": "a42989d3",
   "metadata": {},
   "outputs": [
    {
     "data": {
      "text/plain": [
       "(29, 5)"
      ]
     },
     "execution_count": 4,
     "metadata": {},
     "output_type": "execute_result"
    }
   ],
   "source": [
    "data.shape"
   ]
  },
  {
   "cell_type": "code",
   "execution_count": 5,
   "id": "81104335",
   "metadata": {},
   "outputs": [
    {
     "data": {
      "text/plain": [
       "Month       False\n",
       "Zone - A    False\n",
       "Zone - B    False\n",
       "Zone - C    False\n",
       "Zone - D    False\n",
       "dtype: bool"
      ]
     },
     "execution_count": 5,
     "metadata": {},
     "output_type": "execute_result"
    }
   ],
   "source": [
    "data.isnull().any()"
   ]
  },
  {
   "cell_type": "markdown",
   "id": "f89cdeff",
   "metadata": {},
   "source": [
    "# 1)"
   ]
  },
  {
   "cell_type": "code",
   "execution_count": 6,
   "id": "fd391a9c",
   "metadata": {},
   "outputs": [],
   "source": [
    "A,B,C,D=data[['Zone - A','Zone - B','Zone - C','Zone - D']].mean()"
   ]
  },
  {
   "cell_type": "code",
   "execution_count": 7,
   "id": "c23d7d88",
   "metadata": {},
   "outputs": [
    {
     "name": "stdout",
     "output_type": "stream",
     "text": [
      "Avg. sales in zone A is 1540493.1379310344\n",
      "Avg. sales in zone B is 1755559.5862068965\n",
      "Avg. sales in zone C is 1772871.0344827587\n",
      "Avg. sales in zone D is 1842926.7586206896\n"
     ]
    }
   ],
   "source": [
    "x={'A':A,'B':B,'C':C,'D':D}\n",
    "for key,value in x.items():\n",
    "    print('Avg. sales in zone',key,'is',value)"
   ]
  },
  {
   "cell_type": "markdown",
   "id": "0a12cfdf",
   "metadata": {},
   "source": [
    "# 2)"
   ]
  },
  {
   "cell_type": "code",
   "execution_count": 8,
   "id": "699995a4",
   "metadata": {},
   "outputs": [
    {
     "data": {
      "text/plain": [
       "0     7022544\n",
       "1     7152303\n",
       "2     6475939\n",
       "3     8174449\n",
       "4     5995328\n",
       "5     7151387\n",
       "6     7287108\n",
       "7     7816299\n",
       "8     6703395\n",
       "9     7128210\n",
       "10    7032783\n",
       "11    6111084\n",
       "12    5925424\n",
       "13    7155515\n",
       "14    5934156\n",
       "15    6506659\n",
       "16    7149383\n",
       "17    7083490\n",
       "18    6971953\n",
       "19    7124599\n",
       "20    7389597\n",
       "21    7560001\n",
       "22    6687919\n",
       "23    7784747\n",
       "24    6095918\n",
       "25    6512360\n",
       "26    6267918\n",
       "27    7470920\n",
       "28    6772277\n",
       "dtype: int64"
      ]
     },
     "execution_count": 8,
     "metadata": {},
     "output_type": "execute_result"
    }
   ],
   "source": [
    "list_1=list(data)\n",
    "list_1.remove('Month')\n",
    "data[list_1].sum(axis=1)\n"
   ]
  },
  {
   "cell_type": "markdown",
   "id": "1306b59e",
   "metadata": {},
   "source": [
    "This values shows the total sum of sales for each month"
   ]
  },
  {
   "cell_type": "markdown",
   "id": "b6ae9ebb",
   "metadata": {},
   "source": [
    "# 3)"
   ]
  },
  {
   "cell_type": "markdown",
   "id": "95de81b9",
   "metadata": {},
   "source": [
    "For checking whether all the zones generate the same amount of sales an one way anova test is going to be done."
   ]
  },
  {
   "cell_type": "markdown",
   "id": "f1a15ae3",
   "metadata": {},
   "source": [
    "\n",
    "For that\n",
    "H0:Mean of sales for all zones are equal\n"
   ]
  },
  {
   "cell_type": "markdown",
   "id": "14e47335",
   "metadata": {},
   "source": [
    "H1:Mean of sales of all zones are not equal"
   ]
  },
  {
   "cell_type": "markdown",
   "id": "3ba92204",
   "metadata": {},
   "source": [
    "alpha=0.05"
   ]
  },
  {
   "cell_type": "code",
   "execution_count": 9,
   "id": "be47ed0a",
   "metadata": {},
   "outputs": [
    {
     "data": {
      "text/plain": [
       "F_onewayResult(statistic=5.672056106843581, pvalue=0.0011827601694503335)"
      ]
     },
     "execution_count": 9,
     "metadata": {},
     "output_type": "execute_result"
    }
   ],
   "source": [
    "from scipy.stats import f_oneway\n",
    "f_oneway(data['Zone - A'], data['Zone - B'], data['Zone - C'],data['Zone - D'])\n"
   ]
  },
  {
   "cell_type": "markdown",
   "id": "30c9bbd6",
   "metadata": {},
   "source": [
    "Since pvalue:0.001182760169450 is less than alpha:0.05, we'll reject the null hypothesis and conclude that mean of sales for all zones are not the same"
   ]
  },
  {
   "cell_type": "code",
   "execution_count": 10,
   "id": "0ae7bf43",
   "metadata": {},
   "outputs": [
    {
     "data": {
      "text/plain": [
       "<AxesSubplot:>"
      ]
     },
     "execution_count": 10,
     "metadata": {},
     "output_type": "execute_result"
    },
    {
     "data": {
      "image/png": "[encoded data removed]",
      "text/plain": [
       "<Figure size 864x576 with 1 Axes>"
      ]
     },
     "metadata": {
      "needs_background": "light"
     },
     "output_type": "display_data"
    }
   ],
   "source": [
    "data.boxplot(column=['Zone - A','Zone - B','Zone - C','Zone - D'],figsize=(12,8))"
   ]
  },
  {
   "cell_type": "markdown",
   "id": "c52c8a0a",
   "metadata": {},
   "source": [
    "From the boxplot also we can see that sales are not the same for the different zones"
   ]
  }
 ],
 "metadata": {
  "kernelspec": {
   "display_name": "Python 3",
   "language": "python",
   "name": "python3"
  },
  "language_info": {
   "codemirror_mode": {
    "name": "ipython",
    "version": 3
   },
   "file_extension": ".py",
   "mimetype": "text/x-python",
   "name": "python",
   "nbconvert_exporter": "python",
   "pygments_lexer": "ipython3",
   "version": "3.8.8"
  }
 },
 "nbformat": 4,
 "nbformat_minor": 5
}
