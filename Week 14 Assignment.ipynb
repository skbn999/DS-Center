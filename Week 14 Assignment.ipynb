{
 "cells": [
  {
   "cell_type": "code",
   "execution_count": 1,
   "id": "b5004369",
   "metadata": {},
   "outputs": [],
   "source": [
    "# importing libraries\n",
    "import numpy as np\n",
    "import pandas as pd\n",
    "import seaborn as sns\n",
    "import matplotlib.pyplot as plt"
   ]
  },
  {
   "cell_type": "code",
   "execution_count": 3,
   "id": "17c9aa1e",
   "metadata": {},
   "outputs": [],
   "source": [
    "data=pd.read_csv('Wine.csv')"
   ]
  },
  {
   "cell_type": "code",
   "execution_count": 4,
   "id": "fea1f59c",
   "metadata": {},
   "outputs": [
    {
     "data": {
      "text/html": [
       "<div>\n",
       "<style scoped>\n",
       "    .dataframe tbody tr th:only-of-type {\n",
       "        vertical-align: middle;\n",
       "    }\n",
       "\n",
       "    .dataframe tbody tr th {\n",
       "        vertical-align: top;\n",
       "    }\n",
       "\n",
       "    .dataframe thead th {\n",
       "        text-align: right;\n",
       "    }\n",
       "</style>\n",
       "<table border=\"1\" class=\"dataframe\">\n",
       "  <thead>\n",
       "    <tr style=\"text-align: right;\">\n",
       "      <th></th>\n",
       "      <th>Alcohol</th>\n",
       "      <th>Malic_Acid</th>\n",
       "      <th>Ash</th>\n",
       "      <th>Ash_Alcanity</th>\n",
       "      <th>Magnesium</th>\n",
       "      <th>Total_Phenols</th>\n",
       "      <th>Flavanoids</th>\n",
       "      <th>Nonflavanoid_Phenols</th>\n",
       "      <th>Proanthocyanins</th>\n",
       "      <th>Color_Intensity</th>\n",
       "      <th>Hue</th>\n",
       "      <th>OD280</th>\n",
       "      <th>Proline</th>\n",
       "    </tr>\n",
       "  </thead>\n",
       "  <tbody>\n",
       "    <tr>\n",
       "      <th>0</th>\n",
       "      <td>14.23</td>\n",
       "      <td>1.71</td>\n",
       "      <td>2.43</td>\n",
       "      <td>15.6</td>\n",
       "      <td>127</td>\n",
       "      <td>2.80</td>\n",
       "      <td>3.06</td>\n",
       "      <td>0.28</td>\n",
       "      <td>2.29</td>\n",
       "      <td>5.64</td>\n",
       "      <td>1.04</td>\n",
       "      <td>3.92</td>\n",
       "      <td>1065</td>\n",
       "    </tr>\n",
       "    <tr>\n",
       "      <th>1</th>\n",
       "      <td>13.20</td>\n",
       "      <td>1.78</td>\n",
       "      <td>2.14</td>\n",
       "      <td>11.2</td>\n",
       "      <td>100</td>\n",
       "      <td>2.65</td>\n",
       "      <td>2.76</td>\n",
       "      <td>0.26</td>\n",
       "      <td>1.28</td>\n",
       "      <td>4.38</td>\n",
       "      <td>1.05</td>\n",
       "      <td>3.40</td>\n",
       "      <td>1050</td>\n",
       "    </tr>\n",
       "    <tr>\n",
       "      <th>2</th>\n",
       "      <td>13.16</td>\n",
       "      <td>2.36</td>\n",
       "      <td>2.67</td>\n",
       "      <td>18.6</td>\n",
       "      <td>101</td>\n",
       "      <td>2.80</td>\n",
       "      <td>3.24</td>\n",
       "      <td>0.30</td>\n",
       "      <td>2.81</td>\n",
       "      <td>5.68</td>\n",
       "      <td>1.03</td>\n",
       "      <td>3.17</td>\n",
       "      <td>1185</td>\n",
       "    </tr>\n",
       "    <tr>\n",
       "      <th>3</th>\n",
       "      <td>14.37</td>\n",
       "      <td>1.95</td>\n",
       "      <td>2.50</td>\n",
       "      <td>16.8</td>\n",
       "      <td>113</td>\n",
       "      <td>3.85</td>\n",
       "      <td>3.49</td>\n",
       "      <td>0.24</td>\n",
       "      <td>2.18</td>\n",
       "      <td>7.80</td>\n",
       "      <td>0.86</td>\n",
       "      <td>3.45</td>\n",
       "      <td>1480</td>\n",
       "    </tr>\n",
       "    <tr>\n",
       "      <th>4</th>\n",
       "      <td>13.24</td>\n",
       "      <td>2.59</td>\n",
       "      <td>2.87</td>\n",
       "      <td>21.0</td>\n",
       "      <td>118</td>\n",
       "      <td>2.80</td>\n",
       "      <td>2.69</td>\n",
       "      <td>0.39</td>\n",
       "      <td>1.82</td>\n",
       "      <td>4.32</td>\n",
       "      <td>1.04</td>\n",
       "      <td>2.93</td>\n",
       "      <td>735</td>\n",
       "    </tr>\n",
       "  </tbody>\n",
       "</table>\n",
       "</div>"
      ],
      "text/plain": [
       "   Alcohol  Malic_Acid   Ash  Ash_Alcanity  Magnesium  Total_Phenols  \\\n",
       "0    14.23        1.71  2.43          15.6        127           2.80   \n",
       "1    13.20        1.78  2.14          11.2        100           2.65   \n",
       "2    13.16        2.36  2.67          18.6        101           2.80   \n",
       "3    14.37        1.95  2.50          16.8        113           3.85   \n",
       "4    13.24        2.59  2.87          21.0        118           2.80   \n",
       "\n",
       "   Flavanoids  Nonflavanoid_Phenols  Proanthocyanins  Color_Intensity   Hue  \\\n",
       "0        3.06                  0.28             2.29             5.64  1.04   \n",
       "1        2.76                  0.26             1.28             4.38  1.05   \n",
       "2        3.24                  0.30             2.81             5.68  1.03   \n",
       "3        3.49                  0.24             2.18             7.80  0.86   \n",
       "4        2.69                  0.39             1.82             4.32  1.04   \n",
       "\n",
       "   OD280  Proline  \n",
       "0   3.92     1065  \n",
       "1   3.40     1050  \n",
       "2   3.17     1185  \n",
       "3   3.45     1480  \n",
       "4   2.93      735  "
      ]
     },
     "execution_count": 4,
     "metadata": {},
     "output_type": "execute_result"
    }
   ],
   "source": [
    "data.head()"
   ]
  },
  {
   "cell_type": "code",
   "execution_count": 6,
   "id": "f7029709",
   "metadata": {},
   "outputs": [
    {
     "name": "stdout",
     "output_type": "stream",
     "text": [
      "<class 'pandas.core.frame.DataFrame'>\n",
      "RangeIndex: 178 entries, 0 to 177\n",
      "Data columns (total 13 columns):\n",
      " #   Column                Non-Null Count  Dtype  \n",
      "---  ------                --------------  -----  \n",
      " 0   Alcohol               178 non-null    float64\n",
      " 1   Malic_Acid            178 non-null    float64\n",
      " 2   Ash                   178 non-null    float64\n",
      " 3   Ash_Alcanity          178 non-null    float64\n",
      " 4   Magnesium             178 non-null    int64  \n",
      " 5   Total_Phenols         178 non-null    float64\n",
      " 6   Flavanoids            178 non-null    float64\n",
      " 7   Nonflavanoid_Phenols  178 non-null    float64\n",
      " 8   Proanthocyanins       178 non-null    float64\n",
      " 9   Color_Intensity       178 non-null    float64\n",
      " 10  Hue                   178 non-null    float64\n",
      " 11  OD280                 178 non-null    float64\n",
      " 12  Proline               178 non-null    int64  \n",
      "dtypes: float64(11), int64(2)\n",
      "memory usage: 18.2 KB\n"
     ]
    }
   ],
   "source": [
    "data.info()"
   ]
  },
  {
   "cell_type": "code",
   "execution_count": 7,
   "id": "47096c8e",
   "metadata": {},
   "outputs": [
    {
     "data": {
      "text/plain": [
       "Alcohol                 0\n",
       "Malic_Acid              0\n",
       "Ash                     0\n",
       "Ash_Alcanity            0\n",
       "Magnesium               0\n",
       "Total_Phenols           0\n",
       "Flavanoids              0\n",
       "Nonflavanoid_Phenols    0\n",
       "Proanthocyanins         0\n",
       "Color_Intensity         0\n",
       "Hue                     0\n",
       "OD280                   0\n",
       "Proline                 0\n",
       "dtype: int64"
      ]
     },
     "execution_count": 7,
     "metadata": {},
     "output_type": "execute_result"
    }
   ],
   "source": [
    "data.isna().sum()"
   ]
  },
  {
   "cell_type": "code",
   "execution_count": 11,
   "id": "e9d17d32",
   "metadata": {},
   "outputs": [
    {
     "data": {
      "text/html": [
       "<div>\n",
       "<style scoped>\n",
       "    .dataframe tbody tr th:only-of-type {\n",
       "        vertical-align: middle;\n",
       "    }\n",
       "\n",
       "    .dataframe tbody tr th {\n",
       "        vertical-align: top;\n",
       "    }\n",
       "\n",
       "    .dataframe thead th {\n",
       "        text-align: right;\n",
       "    }\n",
       "</style>\n",
       "<table border=\"1\" class=\"dataframe\">\n",
       "  <thead>\n",
       "    <tr style=\"text-align: right;\">\n",
       "      <th></th>\n",
       "      <th>0</th>\n",
       "      <th>1</th>\n",
       "      <th>2</th>\n",
       "      <th>3</th>\n",
       "      <th>4</th>\n",
       "      <th>5</th>\n",
       "      <th>6</th>\n",
       "      <th>7</th>\n",
       "      <th>8</th>\n",
       "      <th>9</th>\n",
       "      <th>10</th>\n",
       "      <th>11</th>\n",
       "      <th>12</th>\n",
       "    </tr>\n",
       "  </thead>\n",
       "  <tbody>\n",
       "    <tr>\n",
       "      <th>count</th>\n",
       "      <td>1.780000e+02</td>\n",
       "      <td>1.780000e+02</td>\n",
       "      <td>1.780000e+02</td>\n",
       "      <td>1.780000e+02</td>\n",
       "      <td>1.780000e+02</td>\n",
       "      <td>1.780000e+02</td>\n",
       "      <td>1.780000e+02</td>\n",
       "      <td>1.780000e+02</td>\n",
       "      <td>1.780000e+02</td>\n",
       "      <td>1.780000e+02</td>\n",
       "      <td>1.780000e+02</td>\n",
       "      <td>1.780000e+02</td>\n",
       "      <td>1.780000e+02</td>\n",
       "    </tr>\n",
       "    <tr>\n",
       "      <th>mean</th>\n",
       "      <td>-8.619821e-16</td>\n",
       "      <td>-8.357859e-17</td>\n",
       "      <td>-8.657245e-16</td>\n",
       "      <td>-1.160121e-16</td>\n",
       "      <td>-1.995907e-17</td>\n",
       "      <td>-2.972030e-16</td>\n",
       "      <td>-4.016762e-16</td>\n",
       "      <td>4.079134e-16</td>\n",
       "      <td>-1.699639e-16</td>\n",
       "      <td>-1.122697e-17</td>\n",
       "      <td>3.717376e-16</td>\n",
       "      <td>2.919013e-16</td>\n",
       "      <td>-7.484650e-18</td>\n",
       "    </tr>\n",
       "    <tr>\n",
       "      <th>std</th>\n",
       "      <td>1.002821e+00</td>\n",
       "      <td>1.002821e+00</td>\n",
       "      <td>1.002821e+00</td>\n",
       "      <td>1.002821e+00</td>\n",
       "      <td>1.002821e+00</td>\n",
       "      <td>1.002821e+00</td>\n",
       "      <td>1.002821e+00</td>\n",
       "      <td>1.002821e+00</td>\n",
       "      <td>1.002821e+00</td>\n",
       "      <td>1.002821e+00</td>\n",
       "      <td>1.002821e+00</td>\n",
       "      <td>1.002821e+00</td>\n",
       "      <td>1.002821e+00</td>\n",
       "    </tr>\n",
       "    <tr>\n",
       "      <th>min</th>\n",
       "      <td>-2.434235e+00</td>\n",
       "      <td>-1.432983e+00</td>\n",
       "      <td>-3.679162e+00</td>\n",
       "      <td>-2.671018e+00</td>\n",
       "      <td>-2.088255e+00</td>\n",
       "      <td>-2.107246e+00</td>\n",
       "      <td>-1.695971e+00</td>\n",
       "      <td>-1.868234e+00</td>\n",
       "      <td>-2.069034e+00</td>\n",
       "      <td>-1.634288e+00</td>\n",
       "      <td>-2.094732e+00</td>\n",
       "      <td>-1.895054e+00</td>\n",
       "      <td>-1.493188e+00</td>\n",
       "    </tr>\n",
       "    <tr>\n",
       "      <th>25%</th>\n",
       "      <td>-7.882448e-01</td>\n",
       "      <td>-6.587486e-01</td>\n",
       "      <td>-5.721225e-01</td>\n",
       "      <td>-6.891372e-01</td>\n",
       "      <td>-8.244151e-01</td>\n",
       "      <td>-8.854682e-01</td>\n",
       "      <td>-8.275393e-01</td>\n",
       "      <td>-7.401412e-01</td>\n",
       "      <td>-5.972835e-01</td>\n",
       "      <td>-7.951025e-01</td>\n",
       "      <td>-7.675624e-01</td>\n",
       "      <td>-9.522483e-01</td>\n",
       "      <td>-7.846378e-01</td>\n",
       "    </tr>\n",
       "    <tr>\n",
       "      <th>50%</th>\n",
       "      <td>6.099988e-02</td>\n",
       "      <td>-4.231120e-01</td>\n",
       "      <td>-2.382132e-02</td>\n",
       "      <td>1.518295e-03</td>\n",
       "      <td>-1.222817e-01</td>\n",
       "      <td>9.595986e-02</td>\n",
       "      <td>1.061497e-01</td>\n",
       "      <td>-1.760948e-01</td>\n",
       "      <td>-6.289785e-02</td>\n",
       "      <td>-1.592246e-01</td>\n",
       "      <td>3.312687e-02</td>\n",
       "      <td>2.377348e-01</td>\n",
       "      <td>-2.337204e-01</td>\n",
       "    </tr>\n",
       "    <tr>\n",
       "      <th>75%</th>\n",
       "      <td>8.361286e-01</td>\n",
       "      <td>6.697929e-01</td>\n",
       "      <td>6.981085e-01</td>\n",
       "      <td>6.020883e-01</td>\n",
       "      <td>5.096384e-01</td>\n",
       "      <td>8.089974e-01</td>\n",
       "      <td>8.490851e-01</td>\n",
       "      <td>6.095413e-01</td>\n",
       "      <td>6.291754e-01</td>\n",
       "      <td>4.939560e-01</td>\n",
       "      <td>7.131644e-01</td>\n",
       "      <td>7.885875e-01</td>\n",
       "      <td>7.582494e-01</td>\n",
       "    </tr>\n",
       "    <tr>\n",
       "      <th>max</th>\n",
       "      <td>2.259772e+00</td>\n",
       "      <td>3.109192e+00</td>\n",
       "      <td>3.156325e+00</td>\n",
       "      <td>3.154511e+00</td>\n",
       "      <td>4.371372e+00</td>\n",
       "      <td>2.539515e+00</td>\n",
       "      <td>3.062832e+00</td>\n",
       "      <td>2.402403e+00</td>\n",
       "      <td>3.485073e+00</td>\n",
       "      <td>3.435432e+00</td>\n",
       "      <td>3.301694e+00</td>\n",
       "      <td>1.960915e+00</td>\n",
       "      <td>2.971473e+00</td>\n",
       "    </tr>\n",
       "  </tbody>\n",
       "</table>\n",
       "</div>"
      ],
      "text/plain": [
       "                 0             1             2             3             4   \\\n",
       "count  1.780000e+02  1.780000e+02  1.780000e+02  1.780000e+02  1.780000e+02   \n",
       "mean  -8.619821e-16 -8.357859e-17 -8.657245e-16 -1.160121e-16 -1.995907e-17   \n",
       "std    1.002821e+00  1.002821e+00  1.002821e+00  1.002821e+00  1.002821e+00   \n",
       "min   -2.434235e+00 -1.432983e+00 -3.679162e+00 -2.671018e+00 -2.088255e+00   \n",
       "25%   -7.882448e-01 -6.587486e-01 -5.721225e-01 -6.891372e-01 -8.244151e-01   \n",
       "50%    6.099988e-02 -4.231120e-01 -2.382132e-02  1.518295e-03 -1.222817e-01   \n",
       "75%    8.361286e-01  6.697929e-01  6.981085e-01  6.020883e-01  5.096384e-01   \n",
       "max    2.259772e+00  3.109192e+00  3.156325e+00  3.154511e+00  4.371372e+00   \n",
       "\n",
       "                 5             6             7             8             9   \\\n",
       "count  1.780000e+02  1.780000e+02  1.780000e+02  1.780000e+02  1.780000e+02   \n",
       "mean  -2.972030e-16 -4.016762e-16  4.079134e-16 -1.699639e-16 -1.122697e-17   \n",
       "std    1.002821e+00  1.002821e+00  1.002821e+00  1.002821e+00  1.002821e+00   \n",
       "min   -2.107246e+00 -1.695971e+00 -1.868234e+00 -2.069034e+00 -1.634288e+00   \n",
       "25%   -8.854682e-01 -8.275393e-01 -7.401412e-01 -5.972835e-01 -7.951025e-01   \n",
       "50%    9.595986e-02  1.061497e-01 -1.760948e-01 -6.289785e-02 -1.592246e-01   \n",
       "75%    8.089974e-01  8.490851e-01  6.095413e-01  6.291754e-01  4.939560e-01   \n",
       "max    2.539515e+00  3.062832e+00  2.402403e+00  3.485073e+00  3.435432e+00   \n",
       "\n",
       "                 10            11            12  \n",
       "count  1.780000e+02  1.780000e+02  1.780000e+02  \n",
       "mean   3.717376e-16  2.919013e-16 -7.484650e-18  \n",
       "std    1.002821e+00  1.002821e+00  1.002821e+00  \n",
       "min   -2.094732e+00 -1.895054e+00 -1.493188e+00  \n",
       "25%   -7.675624e-01 -9.522483e-01 -7.846378e-01  \n",
       "50%    3.312687e-02  2.377348e-01 -2.337204e-01  \n",
       "75%    7.131644e-01  7.885875e-01  7.582494e-01  \n",
       "max    3.301694e+00  1.960915e+00  2.971473e+00  "
      ]
     },
     "execution_count": 11,
     "metadata": {},
     "output_type": "execute_result"
    }
   ],
   "source": [
    "#standard scaler\n",
    "from sklearn.preprocessing import StandardScaler\n",
    "scaler=StandardScaler()\n",
    "data=scaler.fit_transform(data)\n",
    "data=pd.DataFrame(data)\n",
    "data.describe()"
   ]
  },
  {
   "cell_type": "code",
   "execution_count": 12,
   "id": "dec275ad",
   "metadata": {},
   "outputs": [],
   "source": [
    "#Normalization\n",
    "from sklearn.preprocessing import Normalizer\n",
    "norm=Normalizer()\n",
    "data=norm.fit_transform(data)"
   ]
  },
  {
   "cell_type": "code",
   "execution_count": 13,
   "id": "51b8ceb9",
   "metadata": {},
   "outputs": [
    {
     "data": {
      "text/plain": [
       "(178, 2)"
      ]
     },
     "execution_count": 13,
     "metadata": {},
     "output_type": "execute_result"
    }
   ],
   "source": [
    "#PCA\n",
    "from sklearn.decomposition import PCA\n",
    "pca=PCA(n_components=2,random_state=42)\n",
    "pca.fit(data)\n",
    "x_pca=pca.transform(data)\n",
    "x_pca.shape"
   ]
  },
  {
   "cell_type": "code",
   "execution_count": 14,
   "id": "14531344",
   "metadata": {},
   "outputs": [
    {
     "data": {
      "text/plain": [
       "array([[-0.19995859,  0.21483516, -0.03583603,  0.25059171, -0.14075692,\n",
       "        -0.3942839 , -0.42049708,  0.30897799, -0.28884683,  0.03864312,\n",
       "        -0.27036096, -0.36902382, -0.32867169],\n",
       "       [-0.46787446, -0.25944656, -0.29903119,  0.03119847, -0.32430417,\n",
       "        -0.01269628,  0.06357344, -0.05800528,  0.0194043 , -0.50757364,\n",
       "         0.26661597,  0.22664747, -0.36081395]])"
      ]
     },
     "execution_count": 14,
     "metadata": {},
     "output_type": "execute_result"
    }
   ],
   "source": [
    "pca.components_"
   ]
  },
  {
   "cell_type": "code",
   "execution_count": 15,
   "id": "11d9aaf0",
   "metadata": {},
   "outputs": [
    {
     "name": "stdout",
     "output_type": "stream",
     "text": [
      "[3 1 3 3 3 3 3 3 3 3 3 3 3 3 3 3 3 3 3 3 3 1 3 1 1 1 3 1 3 3 3 3 3 3 3 3 3\n",
      " 3 1 3 3 1 3 1 3 3 3 3 3 3 3 3 3 3 3 3 3 3 3 2 4 4 2 1 2 1 1 2 4 1 4 1 4 1\n",
      " 1 2 2 4 1 1 2 1 2 0 1 2 2 2 4 2 4 4 4 2 2 1 4 2 1 1 2 2 2 2 2 4 2 4 2 1 1\n",
      " 2 4 2 2 2 2 2 4 2 2 1 4 4 1 2 2 4 2 4 0 0 0 0 4 0 0 0 0 0 0 0 0 0 0 0 0 0\n",
      " 0 0 0 0 0 0 0 0 0 0 0 0 0 0 0 0 0 0 0 0 0 0 0 0 0 0 0 0 0 0]\n"
     ]
    }
   ],
   "source": [
    "#K-Means clustering\n",
    "from sklearn.cluster import KMeans\n",
    "model_kmeans=KMeans(n_clusters=5,init='k-means++',random_state=42)\n",
    "model_kmeans.fit(x_pca)\n",
    "lables=model_kmeans.predict(x_pca)\n",
    "print(lables)"
   ]
  },
  {
   "cell_type": "code",
   "execution_count": 19,
   "id": "41a70a41",
   "metadata": {},
   "outputs": [
    {
     "data": {
      "image/png": "[encoded data removed]",
      "text/plain": [
       "<Figure size 432x288 with 1 Axes>"
      ]
     },
     "metadata": {
      "needs_background": "light"
     },
     "output_type": "display_data"
    }
   ],
   "source": [
    "plt.scatter(x_pca[lables==0,0], x_pca[lables==0,1], s=100, c='red', label= 'Cluster 1')\n",
    "plt.scatter(x_pca[lables==1,0], x_pca[lables==1,1], s=100, c='yellow', label= 'Cluster 2')\n",
    "plt.scatter(x_pca[lables==2,0], x_pca[lables==2,1], s=100, c='green', label= 'Cluster 3')\n",
    "plt.scatter(x_pca[lables==3,0], x_pca[lables==3,1], s=100, c='blue', label= 'Cluster 4')\n",
    "plt.scatter(x_pca[lables==4,0], x_pca[lables==4,1], s=100, c='brown', label= 'Cluster 5')\n",
    "plt.title('Clusters')\n",
    "plt.legend()\n",
    "plt.show()"
   ]
  },
  {
   "cell_type": "code",
   "execution_count": 17,
   "id": "7f056994",
   "metadata": {},
   "outputs": [
    {
     "data": {
      "text/plain": [
       "array([0, 0, 0, 0, 0, 0, 0, 0, 0, 0, 0, 0, 0, 0, 0, 0, 0, 0, 0, 0, 0, 0,\n",
       "       0, 0, 0, 0, 0, 0, 0, 0, 0, 0, 0, 0, 0, 0, 0, 0, 0, 0, 0, 0, 0, 0,\n",
       "       0, 0, 0, 0, 0, 0, 0, 0, 0, 0, 0, 0, 0, 0, 0, 4, 1, 1, 4, 3, 4, 3,\n",
       "       3, 4, 1, 3, 1, 3, 4, 0, 3, 4, 4, 1, 3, 4, 3, 3, 4, 2, 3, 3, 4, 4,\n",
       "       1, 4, 1, 1, 1, 3, 3, 0, 1, 3, 3, 3, 3, 4, 4, 4, 3, 1, 4, 1, 4, 3,\n",
       "       3, 4, 1, 4, 4, 4, 4, 4, 1, 4, 3, 0, 1, 1, 3, 4, 4, 1, 4, 1, 1, 2,\n",
       "       2, 2, 1, 2, 2, 2, 2, 2, 2, 2, 2, 2, 2, 2, 2, 2, 2, 2, 2, 2, 2, 2,\n",
       "       2, 2, 2, 2, 2, 2, 2, 2, 2, 2, 2, 2, 2, 2, 2, 2, 2, 2, 2, 2, 2, 2,\n",
       "       2, 2], dtype=int64)"
      ]
     },
     "execution_count": 17,
     "metadata": {},
     "output_type": "execute_result"
    }
   ],
   "source": [
    "#Agglomerative Hierarchical clustering\n",
    "from sklearn.cluster import AgglomerativeClustering\n",
    "cluster=AgglomerativeClustering(n_clusters=5,affinity=\"euclidean\",linkage=\"ward\")\n",
    "lables1=cluster.fit_predict(x_pca)\n",
    "lables1"
   ]
  },
  {
   "cell_type": "code",
   "execution_count": 18,
   "id": "a9508890",
   "metadata": {},
   "outputs": [
    {
     "data": {
      "image/png": "[encoded data removed]",
      "text/plain": [
       "<Figure size 432x288 with 1 Axes>"
      ]
     },
     "metadata": {
      "needs_background": "light"
     },
     "output_type": "display_data"
    }
   ],
   "source": [
    "plt.scatter(x_pca[lables1==0,0], x_pca[lables1==0,1], s=100, c='red', label= 'Cluster 1')\n",
    "plt.scatter(x_pca[lables1==1,0], x_pca[lables1==1,1], s=100, c='yellow', label= 'Cluster 2')\n",
    "plt.scatter(x_pca[lables1==2,0], x_pca[lables1==2,1], s=100, c='green', label= 'Cluster 3')\n",
    "plt.scatter(x_pca[lables1==3,0], x_pca[lables1==3,1], s=100, c='blue', label= 'Cluster 4')\n",
    "plt.scatter(x_pca[lables1==4,0], x_pca[lables1==4,1], s=100, c='brown', label= 'Cluster 5')\n",
    "plt.title('Clusters')\n",
    "plt.legend()\n",
    "plt.show()"
   ]
  },
  {
   "cell_type": "markdown",
   "id": "b80360b3",
   "metadata": {},
   "source": [
    "# 3)"
   ]
  },
  {
   "cell_type": "code",
   "execution_count": 20,
   "id": "60240cd5",
   "metadata": {},
   "outputs": [
    {
     "data": {
      "image/png": "[encoded data removed]",
      "text/plain": [
       "<Figure size 864x432 with 1 Axes>"
      ]
     },
     "metadata": {
      "needs_background": "light"
     },
     "output_type": "display_data"
    }
   ],
   "source": [
    "#PCA\n",
    "pca1 = PCA(n_components = 0.95)\n",
    "pca1.fit(data)\n",
    "x_pca1 = pca1.transform(data)\n",
    "pca = PCA().fit(data)\n",
    "\n",
    "plt.rcParams[\"figure.figsize\"] = (12,6)\n",
    "\n",
    "fig, ax = plt.subplots()\n",
    "xi = np.arange(1, 14, step=1)\n",
    "y = np.cumsum(pca.explained_variance_ratio_)\n",
    "\n",
    "plt.ylim(0.0,1.1)\n",
    "plt.plot(xi, y, marker='o', linestyle='--', color='b')\n",
    "\n",
    "plt.xlabel('Number of Components')\n",
    "plt.xticks(np.arange(0, 11, step=1)) #change from 0-based array index to 1-based human-readable label\n",
    "plt.ylabel('Cumulative variance (%)')\n",
    "plt.title('The number of components needed to explain variance')\n",
    "\n",
    "plt.axhline(y=0.95, color='r', linestyle='-')\n",
    "plt.text(0.5, 0.85, '95% cut-off threshold', color = 'red', fontsize=16)\n",
    "\n",
    "ax.grid(axis='x')\n",
    "plt.show()\n"
   ]
  },
  {
   "cell_type": "code",
   "execution_count": 21,
   "id": "69f2b27a",
   "metadata": {},
   "outputs": [
    {
     "name": "stderr",
     "output_type": "stream",
     "text": [
      "C:\\Users\\stbch\\anaconda3\\lib\\site-packages\\sklearn\\cluster\\_kmeans.py:881: UserWarning: KMeans is known to have a memory leak on Windows with MKL, when there are less chunks than available threads. You can avoid it by setting the environment variable OMP_NUM_THREADS=1.\n",
      "  warnings.warn(\n"
     ]
    },
    {
     "name": "stdout",
     "output_type": "stream",
     "text": [
      "170.61006583601736\n",
      "117.95083371835857\n",
      "87.74692344767996\n",
      "80.04631327294679\n",
      "73.83622225978132\n",
      "70.39494208095644\n",
      "66.37894248698127\n",
      "62.78959841775744\n",
      "60.15441286502873\n",
      "57.97620527920665\n"
     ]
    }
   ],
   "source": [
    "# kmeans\n",
    "wcss=[]\n",
    "for i in range(1,11):\n",
    "  kmeans=KMeans(n_clusters=i, init='k-means++', random_state=42)\n",
    "  kmeans.fit(x_pca1)\n",
    "  wcss.append(kmeans.inertia_)\n",
    "  print(kmeans.inertia_)"
   ]
  },
  {
   "cell_type": "code",
   "execution_count": 22,
   "id": "d8beb852",
   "metadata": {},
   "outputs": [
    {
     "data": {
      "image/png": "[encoded data removed]",
      "text/plain": [
       "<Figure size 864x432 with 1 Axes>"
      ]
     },
     "metadata": {
      "needs_background": "light"
     },
     "output_type": "display_data"
    }
   ],
   "source": [
    "plt.plot(range(1,11),wcss)\n",
    "plt.title('The Elbow Method')\n",
    "plt.xlabel('no of clusters')\n",
    "plt.ylabel('WCSS')\n",
    "plt.show()"
   ]
  },
  {
   "cell_type": "code",
   "execution_count": 23,
   "id": "b9451c70",
   "metadata": {},
   "outputs": [
    {
     "name": "stdout",
     "output_type": "stream",
     "text": [
      "For n_clusters=2, the silhouette score is 0.28269410001477524\n",
      "For n_clusters=3, the silhouette score is 0.31514227927517624\n",
      "For n_clusters=4, the silhouette score is 0.27634537471540943\n",
      "For n_clusters=5, the silhouette score is 0.21567595884994314\n",
      "For n_clusters=6, the silhouette score is 0.21999532494755278\n",
      "For n_clusters=7, the silhouette score is 0.1848041050073751\n",
      "For n_clusters=8, the silhouette score is 0.17331065211810454\n"
     ]
    }
   ],
   "source": [
    "from sklearn.metrics import silhouette_score\n",
    "range_n_clusters = [2, 3, 4, 5, 6, 7, 8]\n",
    "\n",
    "for num_clusters in range_n_clusters:\n",
    "    \n",
    "    # intialise kmeans\n",
    "    kmeans = KMeans(n_clusters=num_clusters, max_iter=1000)\n",
    "    kmeans.fit(x_pca1)\n",
    "    \n",
    "    cluster_labels = kmeans.labels_\n",
    "    \n",
    "    # silhouette score\n",
    "    silhouette_avg = silhouette_score(x_pca1, cluster_labels)\n",
    "    print(\"For n_clusters={0}, the silhouette score is {1}\".format(num_clusters, silhouette_avg))"
   ]
  },
  {
   "cell_type": "markdown",
   "id": "171d155b",
   "metadata": {},
   "source": [
    "No. of clusters are 3"
   ]
  }
 ],
 "metadata": {
  "kernelspec": {
   "display_name": "Python 3",
   "language": "python",
   "name": "python3"
  },
  "language_info": {
   "codemirror_mode": {
    "name": "ipython",
    "version": 3
   },
   "file_extension": ".py",
   "mimetype": "text/x-python",
   "name": "python",
   "nbconvert_exporter": "python",
   "pygments_lexer": "ipython3",
   "version": "3.8.8"
  }
 },
 "nbformat": 4,
 "nbformat_minor": 5
}
