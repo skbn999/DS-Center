{
 "cells": [
  {
   "cell_type": "code",
   "execution_count": 3,
   "id": "d9502500",
   "metadata": {},
   "outputs": [],
   "source": [
    "import pandas as pd\n",
    "import numpy as np\n",
    "import matplotlib.pyplot as plt\n",
    "import seaborn as sns"
   ]
  },
  {
   "cell_type": "code",
   "execution_count": 4,
   "id": "5cbd0f36",
   "metadata": {},
   "outputs": [],
   "source": [
    "data=pd.read_csv('Add_sales_data_2018.csv')"
   ]
  },
  {
   "cell_type": "code",
   "execution_count": 29,
   "id": "07f83cbd",
   "metadata": {},
   "outputs": [
    {
     "data": {
      "text/plain": [
       "Index(['Date', 'Add1(in Thousands)', 'Add2(in Thousands)',\n",
       "       'Add3(in Thousands)', 'Add4(in Thousands)', 'Add5(in Thousands)',\n",
       "       'Profit(in Thousands)'],\n",
       "      dtype='object')"
      ]
     },
     "execution_count": 29,
     "metadata": {},
     "output_type": "execute_result"
    }
   ],
   "source": [
    "data.columns\n"
   ]
  },
  {
   "cell_type": "code",
   "execution_count": 30,
   "id": "8b2f4be5",
   "metadata": {},
   "outputs": [],
   "source": [
    "#Adding expenditures for different companies\n",
    "x=data['Add1(in Thousands)']+data['Add2(in Thousands)']+data['Add3(in Thousands)']+data['Add4(in Thousands)']+data['Add5(in Thousands)']"
   ]
  },
  {
   "cell_type": "code",
   "execution_count": 31,
   "id": "916c9dca",
   "metadata": {},
   "outputs": [],
   "source": [
    "data_new=data.drop(['Add1(in Thousands)', 'Add2(in Thousands)',\n",
    "       'Add3(in Thousands)', 'Add4(in Thousands)', 'Add5(in Thousands)'],axis=1)"
   ]
  },
  {
   "cell_type": "code",
   "execution_count": 34,
   "id": "28ffb744",
   "metadata": {},
   "outputs": [],
   "source": [
    "#Creating a new dataframe with a new column Total ad expenditures\n",
    "data_new['Total Ad Expenditures']=x"
   ]
  },
  {
   "cell_type": "code",
   "execution_count": 35,
   "id": "f386e551",
   "metadata": {},
   "outputs": [
    {
     "data": {
      "text/html": [
       "<div>\n",
       "<style scoped>\n",
       "    .dataframe tbody tr th:only-of-type {\n",
       "        vertical-align: middle;\n",
       "    }\n",
       "\n",
       "    .dataframe tbody tr th {\n",
       "        vertical-align: top;\n",
       "    }\n",
       "\n",
       "    .dataframe thead th {\n",
       "        text-align: right;\n",
       "    }\n",
       "</style>\n",
       "<table border=\"1\" class=\"dataframe\">\n",
       "  <thead>\n",
       "    <tr style=\"text-align: right;\">\n",
       "      <th></th>\n",
       "      <th>Date</th>\n",
       "      <th>Profit(in Thousands)</th>\n",
       "      <th>Total Ad Expenditures</th>\n",
       "    </tr>\n",
       "  </thead>\n",
       "  <tbody>\n",
       "    <tr>\n",
       "      <th>0</th>\n",
       "      <td>2018-10-08</td>\n",
       "      <td>4093.065</td>\n",
       "      <td>1068.25</td>\n",
       "    </tr>\n",
       "    <tr>\n",
       "      <th>1</th>\n",
       "      <td>2018-10-05</td>\n",
       "      <td>4042.448</td>\n",
       "      <td>1060.95</td>\n",
       "    </tr>\n",
       "    <tr>\n",
       "      <th>2</th>\n",
       "      <td>2018-10-04</td>\n",
       "      <td>4213.819</td>\n",
       "      <td>1102.90</td>\n",
       "    </tr>\n",
       "    <tr>\n",
       "      <th>3</th>\n",
       "      <td>2018-10-03</td>\n",
       "      <td>4391.665</td>\n",
       "      <td>1147.30</td>\n",
       "    </tr>\n",
       "    <tr>\n",
       "      <th>4</th>\n",
       "      <td>2018-10-01</td>\n",
       "      <td>4350.683</td>\n",
       "      <td>1151.40</td>\n",
       "    </tr>\n",
       "  </tbody>\n",
       "</table>\n",
       "</div>"
      ],
      "text/plain": [
       "         Date  Profit(in Thousands)  Total Ad Expenditures\n",
       "0  2018-10-08              4093.065                1068.25\n",
       "1  2018-10-05              4042.448                1060.95\n",
       "2  2018-10-04              4213.819                1102.90\n",
       "3  2018-10-03              4391.665                1147.30\n",
       "4  2018-10-01              4350.683                1151.40"
      ]
     },
     "execution_count": 35,
     "metadata": {},
     "output_type": "execute_result"
    }
   ],
   "source": [
    "data_new.head()"
   ]
  },
  {
   "cell_type": "markdown",
   "id": "a3760522",
   "metadata": {},
   "source": [
    "# 1)"
   ]
  },
  {
   "cell_type": "code",
   "execution_count": 36,
   "id": "5ffff434",
   "metadata": {},
   "outputs": [
    {
     "data": {
      "image/png": "[encoded data removed]",
      "text/plain": [
       "<Figure size 432x288 with 1 Axes>"
      ]
     },
     "metadata": {
      "needs_background": "light"
     },
     "output_type": "display_data"
    }
   ],
   "source": [
    "sns.scatterplot(x=data_new['Profit(in Thousands)'],y=data_new['Total Ad Expenditures'])\n",
    "plt.show()"
   ]
  },
  {
   "cell_type": "markdown",
   "id": "7bedf7a0",
   "metadata": {},
   "source": [
    "From this scatterplot we can conclude that expenditure on ads and profits generated has strong positive correlation"
   ]
  },
  {
   "cell_type": "code",
   "execution_count": 37,
   "id": "374ac2b8",
   "metadata": {},
   "outputs": [
    {
     "data": {
      "text/html": [
       "<div>\n",
       "<style scoped>\n",
       "    .dataframe tbody tr th:only-of-type {\n",
       "        vertical-align: middle;\n",
       "    }\n",
       "\n",
       "    .dataframe tbody tr th {\n",
       "        vertical-align: top;\n",
       "    }\n",
       "\n",
       "    .dataframe thead th {\n",
       "        text-align: right;\n",
       "    }\n",
       "</style>\n",
       "<table border=\"1\" class=\"dataframe\">\n",
       "  <thead>\n",
       "    <tr style=\"text-align: right;\">\n",
       "      <th></th>\n",
       "      <th>Profit(in Thousands)</th>\n",
       "      <th>Total Ad Expenditures</th>\n",
       "    </tr>\n",
       "  </thead>\n",
       "  <tbody>\n",
       "    <tr>\n",
       "      <th>Profit(in Thousands)</th>\n",
       "      <td>1.000000</td>\n",
       "      <td>0.999054</td>\n",
       "    </tr>\n",
       "    <tr>\n",
       "      <th>Total Ad Expenditures</th>\n",
       "      <td>0.999054</td>\n",
       "      <td>1.000000</td>\n",
       "    </tr>\n",
       "  </tbody>\n",
       "</table>\n",
       "</div>"
      ],
      "text/plain": [
       "                       Profit(in Thousands)  Total Ad Expenditures\n",
       "Profit(in Thousands)               1.000000               0.999054\n",
       "Total Ad Expenditures              0.999054               1.000000"
      ]
     },
     "execution_count": 37,
     "metadata": {},
     "output_type": "execute_result"
    }
   ],
   "source": [
    "pfadcorr=data_new.drop('Date',axis=1).corr()\n",
    "pfadcorr"
   ]
  },
  {
   "cell_type": "markdown",
   "id": "6cfe1b2e",
   "metadata": {},
   "source": [
    "This is also shows strong positive correlation of 0.999054"
   ]
  },
  {
   "cell_type": "markdown",
   "id": "06cc286d",
   "metadata": {},
   "source": [
    "# 2)"
   ]
  },
  {
   "cell_type": "code",
   "execution_count": 38,
   "id": "006e0c6e",
   "metadata": {},
   "outputs": [],
   "source": [
    "#Importing train_test_split model from scikitlearn library\n",
    "from sklearn.model_selection import train_test_split"
   ]
  },
  {
   "cell_type": "code",
   "execution_count": 40,
   "id": "84a8c4e5",
   "metadata": {},
   "outputs": [],
   "source": [
    "#Select the target and independent variable\n",
    "x=data.drop(['Date','Profit(in Thousands)'],axis=1)\n",
    "y=data['Profit(in Thousands)']"
   ]
  },
  {
   "cell_type": "code",
   "execution_count": 41,
   "id": "a7b3e9cc",
   "metadata": {},
   "outputs": [],
   "source": [
    "#Importing linearmodel from sklearn library \n",
    "from sklearn import linear_model"
   ]
  },
  {
   "cell_type": "code",
   "execution_count": 42,
   "id": "16cf72f9",
   "metadata": {},
   "outputs": [],
   "source": [
    "#Creating an instance of the linear model\n",
    "lr=linear_model.LinearRegression()"
   ]
  },
  {
   "cell_type": "code",
   "execution_count": 45,
   "id": "e4aed9a2",
   "metadata": {},
   "outputs": [],
   "source": [
    "#Splitting the dataset and to train and test data\n",
    "x_train,x_test,y_train,y_test=train_test_split(x,y,random_state=42,test_size=.25)"
   ]
  },
  {
   "cell_type": "code",
   "execution_count": 46,
   "id": "0d66d668",
   "metadata": {},
   "outputs": [],
   "source": [
    "#Fitting the model\n",
    "model=lr.fit(x_train,y_train)"
   ]
  },
  {
   "cell_type": "code",
   "execution_count": 48,
   "id": "37123063",
   "metadata": {},
   "outputs": [],
   "source": [
    "#Storing the predicted variables into a variable\n",
    "pred=model.predict(x_test)"
   ]
  },
  {
   "cell_type": "code",
   "execution_count": 49,
   "id": "3e2075ad",
   "metadata": {},
   "outputs": [
    {
     "data": {
      "text/plain": [
       "array([4152.066, 4446.441, 5131.898, 4907.56 , 5004.282, 4623.793,\n",
       "       5384.175, 5328.025, 5175.051, 5956.323, 5780.799, 4997.719,\n",
       "       5075.858, 5784.54 , 4936.12 , 5065.652, 4190.965, 5034.726,\n",
       "       5015.536, 5134.657, 5145.131, 5421.94 , 4569.293, 4598.292,\n",
       "       4436.321, 4175.677, 5616.791, 5667.25 , 4648.834, 5717.838,\n",
       "       5001.615, 5182.368, 5017.503, 5545.013, 5013.207, 5030.451,\n",
       "       5108.626, 4760.877, 4606.34 , 4925.861, 5250.788, 5038.222,\n",
       "       5491.792, 5019.997, 4647.356, 4486.38 , 4435.174, 5300.437,\n",
       "       5425.19 , 4482.183, 4193.095, 6062.457])"
      ]
     },
     "execution_count": 49,
     "metadata": {},
     "output_type": "execute_result"
    }
   ],
   "source": [
    "pred"
   ]
  },
  {
   "cell_type": "code",
   "execution_count": 50,
   "id": "85758cf0",
   "metadata": {},
   "outputs": [],
   "source": [
    "from sklearn.metrics import mean_squared_error"
   ]
  },
  {
   "cell_type": "code",
   "execution_count": 51,
   "id": "692ed4a6",
   "metadata": {},
   "outputs": [
    {
     "data": {
      "text/plain": [
       "6.999220567756388e-25"
      ]
     },
     "execution_count": 51,
     "metadata": {},
     "output_type": "execute_result"
    }
   ],
   "source": [
    "#Calculating the MSE Value\n",
    "mean_squared_error(pred,y_test)"
   ]
  },
  {
   "cell_type": "markdown",
   "id": "4ec0f6fe",
   "metadata": {},
   "source": [
    "# 3)"
   ]
  },
  {
   "cell_type": "code",
   "execution_count": 58,
   "id": "ba46a395",
   "metadata": {},
   "outputs": [],
   "source": [
    "#Using the dataset given in question to predict the profit\n",
    "futurexp=pd.DataFrame({'Add1':290,'Add2':312,'Add3':309,'Add4':298,'Add5':320},index=[0])\n"
   ]
  },
  {
   "cell_type": "code",
   "execution_count": 59,
   "id": "b4ce8784",
   "metadata": {},
   "outputs": [],
   "source": [
    "Prediction=model.predict(futurexp)"
   ]
  },
  {
   "cell_type": "code",
   "execution_count": 60,
   "id": "1a2df5ee",
   "metadata": {},
   "outputs": [
    {
     "name": "stdout",
     "output_type": "stream",
     "text": [
      "Predicted profit using given ad expenditure value is: [5820.06]\n"
     ]
    }
   ],
   "source": [
    "print('Predicted profit using given ad expenditure value is:',Prediction)"
   ]
  },
  {
   "cell_type": "markdown",
   "id": "ce27aecf",
   "metadata": {},
   "source": [
    "So using the model that I have created, a profit(in thousands) of 5820.06 is predicted"
   ]
  },
  {
   "cell_type": "code",
   "execution_count": null,
   "id": "c236f578",
   "metadata": {},
   "outputs": [],
   "source": []
  }
 ],
 "metadata": {
  "kernelspec": {
   "display_name": "Python 3",
   "language": "python",
   "name": "python3"
  },
  "language_info": {
   "codemirror_mode": {
    "name": "ipython",
    "version": 3
   },
   "file_extension": ".py",
   "mimetype": "text/x-python",
   "name": "python",
   "nbconvert_exporter": "python",
   "pygments_lexer": "ipython3",
   "version": "3.8.8"
  }
 },
 "nbformat": 4,
 "nbformat_minor": 5
}
